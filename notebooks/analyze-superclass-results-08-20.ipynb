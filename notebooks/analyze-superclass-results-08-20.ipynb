{
 "cells": [
  {
   "cell_type": "code",
   "execution_count": 1,
   "metadata": {},
   "outputs": [],
   "source": [
    "%load_ext autoreload\n",
    "%autoreload 2\n",
    "\n",
    "import os\n",
    "os.chdir('..')"
   ]
  },
  {
   "cell_type": "code",
   "execution_count": 2,
   "metadata": {},
   "outputs": [],
   "source": [
    "import models.cifar as models\n",
    "checkpoint_paths = {}\n",
    "checkpoint_paths['super'] = '/home/jdunnmon/Research/repos/pytorch-classification/checkpoints/cifar100/resnext-8x64d-epochs300-superclass'\n",
    "#checkpoint_paths['super'] = '/home/jdunnmon/Research/repos/pytorch-classification/checkpoints/cifar100/resnext-8x64d-epochs300-superclass-correct-val'\n",
    "checkpoint_paths['sub'] = '/home/jdunnmon/Research/repos/pytorch-classification/checkpoints/cifar100/resnext-8x64d-epochs300-pretrained'"
   ]
  },
  {
   "cell_type": "code",
   "execution_count": 3,
   "metadata": {},
   "outputs": [
    {
     "name": "stderr",
     "output_type": "stream",
     "text": [
      "/home/jdunnmon/Research/repos/pytorch-classification/models/cifar/resnext.py:81: UserWarning: nn.init.kaiming_normal is now deprecated in favor of nn.init.kaiming_normal_.\n",
      "  init.kaiming_normal(self.classifier.weight)\n",
      "/home/jdunnmon/Research/repos/pytorch-classification/models/cifar/resnext.py:86: UserWarning: nn.init.kaiming_normal is now deprecated in favor of nn.init.kaiming_normal_.\n",
      "  init.kaiming_normal(self.state_dict()[key], mode='fan_out')\n"
     ]
    },
    {
     "name": "stdout",
     "output_type": "stream",
     "text": [
      "Using 20 classes...\n",
      "Files already downloaded and verified\n",
      "Using coarse labels...\n",
      "Replacing class streetcar with blurred bus...\n",
      "Using coarse labels...\n",
      "Replacing class streetcar with blurred bus...\n"
     ]
    }
   ],
   "source": [
    "from analysis.analysis_utils import load_trained_model, fetch_dataloaders\n",
    "trained_models = {}\n",
    "dataloaders = {}\n",
    "ind_to_class = {}\n",
    "class_to_ind = {}\n",
    "for tp in ['super']:\n",
    "    # For testing subclass functionality\n",
    "    #subsample_subclass = {'mountain':0.25, \"dolphin\":0.25} \n",
    "    subsample_subclass = {}\n",
    "    #whiten_subclass = {'mountain':0.25, 'dolphin':0.25}\n",
    "    whiten_subclass = {}\n",
    "    diff_subclass = {'streetcar':'bus'}\n",
    "    #diff_subclass = {}\n",
    "    trained_models[tp], args = load_trained_model(checkpoint_paths[tp])\n",
    "    dataloaders[tp] = fetch_dataloaders(args, subsample_subclass=subsample_subclass, whiten_subclass=whiten_subclass, \n",
    "                                        diff_subclass=diff_subclass)\n",
    "    class_to_ind[tp] = dataloaders[tp]['test'].dataset.class_to_idx\n",
    "    ind_to_class[tp] = {v:k for k,v in dataloaders[tp]['test'].dataset.class_to_idx.items()}"
   ]
  },
  {
   "cell_type": "code",
   "execution_count": 6,
   "metadata": {},
   "outputs": [
    {
     "data": {
      "text/plain": [
       "500"
      ]
     },
     "execution_count": 6,
     "metadata": {},
     "output_type": "execute_result"
    }
   ],
   "source": [
    "import numpy as np\n",
    "aa = np.array(dataloaders['super']['train'].dataset.data['fine_labels']) == dataloaders['super']['train'].dataset.fine_class_to_idx['mountain']\n",
    "np.sum(aa)"
   ]
  },
  {
   "cell_type": "code",
   "execution_count": 7,
   "metadata": {},
   "outputs": [
    {
     "data": {
      "text/plain": [
       "Counter({10: 500})"
      ]
     },
     "execution_count": 7,
     "metadata": {},
     "output_type": "execute_result"
    }
   ],
   "source": [
    "from collections import Counter\n",
    "inds = np.array(dataloaders['super']['train'].dataset.data['fine_labels']) == dataloaders['super']['train'].dataset.fine_class_to_idx['mountain']\n",
    "Counter(np.array(dataloaders['super']['train'].dataset.data['coarse_labels'])[inds])"
   ]
  },
  {
   "cell_type": "code",
   "execution_count": 7,
   "metadata": {},
   "outputs": [
    {
     "data": {
      "text/plain": [
       "49250"
      ]
     },
     "execution_count": 7,
     "metadata": {},
     "output_type": "execute_result"
    }
   ],
   "source": [
    "len(dataloaders['su']['train'].dataset)"
   ]
  },
  {
   "cell_type": "code",
   "execution_count": 4,
   "metadata": {},
   "outputs": [],
   "source": [
    "import torch\n",
    "\n",
    "use_cuda = True\n",
    "outputs = []\n",
    "testloader = dataloaders['sub']['test']\n",
    "model = trained_models['sub']\n",
    "model.eval()\n",
    "criterion = torch.nn.CrossEntropyLoss()\n",
    "if use_cuda:\n",
    "    trained_models['super'].cuda()\n",
    "    trained_models['sub'].cuda()\n",
    "    #criterion.cuda()"
   ]
  },
  {
   "cell_type": "code",
   "execution_count": 5,
   "metadata": {},
   "outputs": [
    {
     "name": "stderr",
     "output_type": "stream",
     "text": [
      "/home/jdunnmon/Research/repos/anaconda3/envs/pytorch-classification/lib/python3.6/site-packages/ipykernel_launcher.py:13: UserWarning: volatile was removed and now has no effect. Use `with torch.no_grad():` instead.\n",
      "  del sys.path[0]\n"
     ]
    }
   ],
   "source": [
    "filenames_all = []\n",
    "coarse_labels_all = []\n",
    "fine_labels_all = []\n",
    "fine_preds_all = []\n",
    "coarse_preds_all = []\n",
    "fine_losses_all = []\n",
    "coarse_losses_all = []\n",
    "\n",
    "for batch_idx, (inputs, targets, coarse_labels, fine_labels, filenames) in enumerate(testloader):\n",
    "\n",
    "    if use_cuda:\n",
    "        inputs, targets = inputs.cuda(), targets.cuda()\n",
    "    inputs, targets = torch.autograd.Variable(inputs, volatile=True), torch.autograd.Variable(targets)\n",
    "\n",
    "    # compute output\n",
    "    preds = {}\n",
    "    losses = {}\n",
    "    outputs = {}\n",
    "    for tp in ['super','sub']:\n",
    "        outputs[tp] = trained_models[tp](inputs)\n",
    "        _, preds[tp] = outputs[tp].topk(1, 1, True, True)\n",
    "   #     criterion(outputs[tp], targets)\n",
    "    #break\n",
    "    coarse_labels_all+=list([int(a) for a in coarse_labels])\n",
    "    fine_labels_all+=list([int(a) for a in fine_labels])\n",
    "    coarse_preds_all+=list([int(a) for a in preds['super']])\n",
    "    fine_preds_all+=list([int(a) for a in preds['sub']])\n",
    " #   coarse_losses_all+=list([int(a) for a in losses['super']])\n",
    " #   fine_losses_all+=list([int(a) for a in losses['sub']])    \n",
    "    filenames_all+=list(filenames)"
   ]
  },
  {
   "cell_type": "code",
   "execution_count": 1,
   "metadata": {},
   "outputs": [
    {
     "ename": "NameError",
     "evalue": "name 'filenames_all' is not defined",
     "output_type": "error",
     "traceback": [
      "\u001b[0;31m---------------------------------------------------------------------------\u001b[0m",
      "\u001b[0;31mNameError\u001b[0m                                 Traceback (most recent call last)",
      "\u001b[0;32m<ipython-input-1-279c7d01fbd2>\u001b[0m in \u001b[0;36m<module>\u001b[0;34m\u001b[0m\n\u001b[1;32m      1\u001b[0m \u001b[0;32mimport\u001b[0m \u001b[0mpandas\u001b[0m \u001b[0;32mas\u001b[0m \u001b[0mpd\u001b[0m\u001b[0;34m\u001b[0m\u001b[0;34m\u001b[0m\u001b[0m\n\u001b[1;32m      2\u001b[0m prediction_df = pd.DataFrame({\n\u001b[0;32m----> 3\u001b[0;31m     \u001b[0;34m'filename'\u001b[0m\u001b[0;34m:\u001b[0m\u001b[0mfilenames_all\u001b[0m\u001b[0;34m,\u001b[0m\u001b[0;34m\u001b[0m\u001b[0;34m\u001b[0m\u001b[0m\n\u001b[0m\u001b[1;32m      4\u001b[0m     \u001b[0;34m'fine_labels'\u001b[0m\u001b[0;34m:\u001b[0m\u001b[0mfine_labels_all\u001b[0m\u001b[0;34m,\u001b[0m\u001b[0;34m\u001b[0m\u001b[0;34m\u001b[0m\u001b[0m\n\u001b[1;32m      5\u001b[0m     \u001b[0;34m'coarse_labels'\u001b[0m\u001b[0;34m:\u001b[0m\u001b[0mcoarse_labels_all\u001b[0m\u001b[0;34m,\u001b[0m\u001b[0;34m\u001b[0m\u001b[0;34m\u001b[0m\u001b[0m\n",
      "\u001b[0;31mNameError\u001b[0m: name 'filenames_all' is not defined"
     ]
    }
   ],
   "source": [
    "import pandas as pd\n",
    "prediction_df = pd.DataFrame({\n",
    "    'filename':filenames_all,\n",
    "    'fine_labels':fine_labels_all,\n",
    "    'coarse_labels':coarse_labels_all,\n",
    "    'fine_preds':fine_preds_all,\n",
    "    'coarse_preds':coarse_preds_all,\n",
    "    'fine_labels_string': [ind_to_class['sub'][a] for a in fine_labels_all],\n",
    "    'coarse_labels_string': [ind_to_class['super'][a] for a in coarse_labels_all]\n",
    "})"
   ]
  },
  {
   "cell_type": "code",
   "execution_count": 7,
   "metadata": {},
   "outputs": [],
   "source": [
    "prediction_df\n",
    "#prediction_df.to_csv('predictions_correct_val.csv')"
   ]
  },
  {
   "cell_type": "code",
   "execution_count": 8,
   "metadata": {},
   "outputs": [
    {
     "data": {
      "text/plain": [
       "Counter({'seal': 100,\n",
       "         'beaver': 100,\n",
       "         'whale': 100,\n",
       "         'dolphin': 100,\n",
       "         'otter': 100})"
      ]
     },
     "execution_count": 8,
     "metadata": {},
     "output_type": "execute_result"
    }
   ],
   "source": [
    "from collections import Counter\n",
    "Counter(prediction_df[prediction_df['coarse_labels_string']=='aquatic_mammals']['fine_labels_string'])"
   ]
  },
  {
   "cell_type": "code",
   "execution_count": 9,
   "metadata": {},
   "outputs": [
    {
     "name": "stdout",
     "output_type": "stream",
     "text": [
      "large_natural_outdoor_scenes superclass coarse label accuracy: 0.904\n",
      "mountain subclass coarse label accuracy: 0.92\n",
      "forest subclass coarse label accuracy: 0.74\n",
      "sea subclass coarse label accuracy: 0.96\n",
      "cloud subclass coarse label accuracy: 0.95\n",
      "plain subclass coarse label accuracy: 0.95\n",
      "\n",
      "\n",
      "aquatic_mammals superclass coarse label accuracy: 0.728\n",
      "seal subclass coarse label accuracy: 0.6\n",
      "beaver subclass coarse label accuracy: 0.68\n",
      "whale subclass coarse label accuracy: 0.8\n",
      "dolphin subclass coarse label accuracy: 0.83\n",
      "otter subclass coarse label accuracy: 0.73\n",
      "\n",
      "\n",
      "fruit_and_vegetables superclass coarse label accuracy: 0.884\n",
      "mushroom subclass coarse label accuracy: 0.74\n",
      "apple subclass coarse label accuracy: 0.97\n",
      "orange subclass coarse label accuracy: 0.98\n",
      "pear subclass coarse label accuracy: 0.91\n",
      "sweet_pepper subclass coarse label accuracy: 0.82\n",
      "\n",
      "\n",
      "flowers superclass coarse label accuracy: 0.932\n",
      "tulip subclass coarse label accuracy: 0.96\n",
      "rose subclass coarse label accuracy: 0.93\n",
      "sunflower subclass coarse label accuracy: 0.94\n",
      "orchid subclass coarse label accuracy: 0.87\n",
      "poppy subclass coarse label accuracy: 0.96\n",
      "\n",
      "\n",
      "large_omnivores_and_herbivores superclass coarse label accuracy: 0.778\n",
      "camel subclass coarse label accuracy: 0.87\n",
      "chimpanzee subclass coarse label accuracy: 0.69\n",
      "cattle subclass coarse label accuracy: 0.75\n",
      "elephant subclass coarse label accuracy: 0.85\n",
      "kangaroo subclass coarse label accuracy: 0.73\n",
      "\n",
      "\n",
      "insects superclass coarse label accuracy: 0.806\n",
      "butterfly subclass coarse label accuracy: 0.79\n",
      "cockroach subclass coarse label accuracy: 0.85\n",
      "bee subclass coarse label accuracy: 0.78\n",
      "beetle subclass coarse label accuracy: 0.82\n",
      "caterpillar subclass coarse label accuracy: 0.79\n",
      "\n",
      "\n",
      "medium_mammals superclass coarse label accuracy: 0.742\n",
      "skunk subclass coarse label accuracy: 0.72\n",
      "porcupine subclass coarse label accuracy: 0.76\n",
      "raccoon subclass coarse label accuracy: 0.83\n",
      "possum subclass coarse label accuracy: 0.61\n",
      "fox subclass coarse label accuracy: 0.79\n",
      "\n",
      "\n",
      "vehicles_2 superclass coarse label accuracy: 0.846\n",
      "streetcar subclass coarse label accuracy: 0.75\n",
      "rocket subclass coarse label accuracy: 0.83\n",
      "lawn_mower subclass coarse label accuracy: 0.89\n",
      "tractor subclass coarse label accuracy: 0.89\n",
      "tank subclass coarse label accuracy: 0.87\n",
      "\n",
      "\n",
      "household_electrical_devices superclass coarse label accuracy: 0.806\n",
      "lamp subclass coarse label accuracy: 0.66\n",
      "keyboard subclass coarse label accuracy: 0.87\n",
      "clock subclass coarse label accuracy: 0.8\n",
      "television subclass coarse label accuracy: 0.82\n",
      "telephone subclass coarse label accuracy: 0.88\n",
      "\n",
      "\n",
      "large_carnivores superclass coarse label accuracy: 0.812\n",
      "lion subclass coarse label accuracy: 0.88\n",
      "wolf subclass coarse label accuracy: 0.82\n",
      "leopard subclass coarse label accuracy: 0.89\n",
      "bear subclass coarse label accuracy: 0.54\n",
      "tiger subclass coarse label accuracy: 0.93\n",
      "\n",
      "\n",
      "reptiles superclass coarse label accuracy: 0.71\n",
      "dinosaur subclass coarse label accuracy: 0.71\n",
      "turtle subclass coarse label accuracy: 0.66\n",
      "crocodile subclass coarse label accuracy: 0.7\n",
      "snake subclass coarse label accuracy: 0.7\n",
      "lizard subclass coarse label accuracy: 0.78\n",
      "\n",
      "\n",
      "food_containers superclass coarse label accuracy: 0.844\n",
      "can subclass coarse label accuracy: 0.84\n",
      "plate subclass coarse label accuracy: 0.88\n",
      "bottle subclass coarse label accuracy: 0.81\n",
      "bowl subclass coarse label accuracy: 0.8\n",
      "cup subclass coarse label accuracy: 0.89\n",
      "\n",
      "\n",
      "vehicles_1 superclass coarse label accuracy: 0.836\n",
      "bicycle subclass coarse label accuracy: 0.93\n",
      "pickup_truck subclass coarse label accuracy: 0.86\n",
      "train subclass coarse label accuracy: 0.73\n",
      "bus subclass coarse label accuracy: 0.76\n",
      "motorcycle subclass coarse label accuracy: 0.9\n",
      "\n",
      "\n",
      "household_furniture superclass coarse label accuracy: 0.894\n",
      "chair subclass coarse label accuracy: 0.93\n",
      "couch subclass coarse label accuracy: 0.85\n",
      "wardrobe subclass coarse label accuracy: 0.96\n",
      "table subclass coarse label accuracy: 0.78\n",
      "bed subclass coarse label accuracy: 0.95\n",
      "\n",
      "\n",
      "trees superclass coarse label accuracy: 0.934\n",
      "palm_tree subclass coarse label accuracy: 0.92\n",
      "oak_tree subclass coarse label accuracy: 0.98\n",
      "maple_tree subclass coarse label accuracy: 0.97\n",
      "pine_tree subclass coarse label accuracy: 0.88\n",
      "willow_tree subclass coarse label accuracy: 0.92\n",
      "\n",
      "\n",
      "fish superclass coarse label accuracy: 0.762\n",
      "shark subclass coarse label accuracy: 0.63\n",
      "flatfish subclass coarse label accuracy: 0.75\n",
      "ray subclass coarse label accuracy: 0.76\n",
      "trout subclass coarse label accuracy: 0.85\n",
      "aquarium_fish subclass coarse label accuracy: 0.82\n",
      "\n",
      "\n",
      "people superclass coarse label accuracy: 0.888\n",
      "boy subclass coarse label accuracy: 0.94\n",
      "baby subclass coarse label accuracy: 0.94\n",
      "girl subclass coarse label accuracy: 0.9\n",
      "man subclass coarse label accuracy: 0.77\n",
      "woman subclass coarse label accuracy: 0.89\n",
      "\n",
      "\n",
      "large_man-made_outdoor_things superclass coarse label accuracy: 0.888\n",
      "house subclass coarse label accuracy: 0.81\n",
      "castle subclass coarse label accuracy: 0.93\n",
      "skyscraper subclass coarse label accuracy: 0.92\n",
      "bridge subclass coarse label accuracy: 0.82\n",
      "road subclass coarse label accuracy: 0.96\n",
      "\n",
      "\n",
      "non-insect_invertebrates superclass coarse label accuracy: 0.732\n",
      "snail subclass coarse label accuracy: 0.72\n",
      "crab subclass coarse label accuracy: 0.77\n",
      "lobster subclass coarse label accuracy: 0.65\n",
      "worm subclass coarse label accuracy: 0.73\n",
      "spider subclass coarse label accuracy: 0.79\n",
      "\n",
      "\n",
      "small_mammals superclass coarse label accuracy: 0.744\n",
      "rabbit subclass coarse label accuracy: 0.69\n",
      "mouse subclass coarse label accuracy: 0.82\n",
      "shrew subclass coarse label accuracy: 0.57\n",
      "hamster subclass coarse label accuracy: 0.91\n",
      "squirrel subclass coarse label accuracy: 0.73\n",
      "\n",
      "\n"
     ]
    }
   ],
   "source": [
    "from sklearn.metrics import accuracy_score\n",
    "from collections import defaultdict\n",
    "coarse_results = defaultdict(dict)\n",
    "accuracy_type = 'coarse'\n",
    "for coarse_class in prediction_df['coarse_labels_string'].unique():\n",
    "    coarse_accs = {}\n",
    "    coarse_class_df = prediction_df[prediction_df['coarse_labels_string']==coarse_class]\n",
    "    coarse_class_acc = accuracy_score(coarse_class_df[f'{accuracy_type}_labels'],coarse_class_df[f'{accuracy_type}_preds'])\n",
    "    print(f'{coarse_class} superclass {accuracy_type} label accuracy: {coarse_class_acc}')\n",
    "    coarse_results['superclass'].update({coarse_class:coarse_class_acc})\n",
    "   # print(f\"fine label disribution: {Counter(coarse_class_df['fine_labels_string'])}\")\n",
    "    for ii, fine_class in enumerate(coarse_class_df['fine_labels_string'].unique()):\n",
    "        fine_class_df = coarse_class_df[coarse_class_df['fine_labels_string']==fine_class]\n",
    "        fine_class_acc = accuracy_score(fine_class_df[f'{accuracy_type}_labels'],fine_class_df[f'{accuracy_type}_preds'])\n",
    "        print(f'{fine_class} subclass {accuracy_type} label accuracy: {fine_class_acc}')\n",
    "        coarse_results[f'subclass_{ii}'].update({coarse_class:fine_class_acc})\n",
    "    print('\\n')"
   ]
  },
  {
   "cell_type": "code",
   "execution_count": 11,
   "metadata": {},
   "outputs": [
    {
     "data": {
      "text/plain": [
       "<Figure size 1080x1080 with 0 Axes>"
      ]
     },
     "metadata": {},
     "output_type": "display_data"
    }
   ],
   "source": [
    "import matplotlib.pyplot as plt\n",
    "f = plt.figure(figsize=(15,15))\n",
    "plot_df = pd.DataFrame(coarse_results).reset_index()\n",
    "plot_df = plot_df.rename(columns={\"index\": \"Superclass\"})\n",
    "plot_df = plot_df.melt(id_vars=['Superclass'], var_name='Subset', value_name='Accuracy')"
   ]
  },
  {
   "cell_type": "code",
   "execution_count": 12,
   "metadata": {},
   "outputs": [
    {
     "data": {
      "image/png": "[encoded data removed]",
      "text/plain": [
       "<Figure size 720x720 with 1 Axes>"
      ]
     },
     "metadata": {},
     "output_type": "display_data"
    }
   ],
   "source": [
    "import seaborn as sns\n",
    "import matplotlib.pyplot as plt\n",
    "palette = [sns.xkcd_rgb[\"black\"]] + 5*[sns.xkcd_rgb[\"blue\"]]\n",
    "sns.set(font_scale=1.5)\n",
    "f = plt.figure(figsize=(10,10))\n",
    "ax = sns.stripplot(x=\"Superclass\", y=\"Accuracy\", hue=\"Subset\", data=plot_df, jitter=False, s=20, palette=palette, alpha=0.5)\n",
    "ax.set_xticklabels(ax.get_xticklabels(),rotation=90)\n",
    "h,l = ax.get_legend_handles_labels()\n",
    "ax.legend_.remove()\n",
    "ax.legend(h,l, ncol=2, loc='lower right')\n",
    "ax.set_ylim([0.3,1.02])\n",
    "plt.tight_layout()\n",
    "plt.savefig('Superclass-Subclass-CIFAR-100-Correct-Val.png',format='png')"
   ]
  },
  {
   "cell_type": "markdown",
   "metadata": {},
   "source": [
    "## SANDBOX"
   ]
  },
  {
   "cell_type": "code",
   "execution_count": 43,
   "metadata": {},
   "outputs": [
    {
     "name": "stdout",
     "output_type": "stream",
     "text": [
      "['large_omnivores_and_herbivores', 'reptiles', 'fruit_and_vegetables', 'people', 'fish']\n",
      "['cattle', 'dinosaur', 'apple', 'boy', 'aquarium_fish']\n"
     ]
    }
   ],
   "source": [
    "print([ind_to_class['super'][a] for a in dataloaders['super']['test'].dataset.data['coarse_labels']][0:5])\n",
    "print([ind_to_class['sub'][a] for a in dataloaders['sub']['test'].dataset.data['fine_labels']][0:5])"
   ]
  },
  {
   "cell_type": "code",
   "execution_count": 38,
   "metadata": {},
   "outputs": [
    {
     "data": {
      "text/plain": [
       "{0: 'aquatic_mammals',\n",
       " 1: 'fish',\n",
       " 2: 'flowers',\n",
       " 3: 'food_containers',\n",
       " 4: 'fruit_and_vegetables',\n",
       " 5: 'household_electrical_devices',\n",
       " 6: 'household_furniture',\n",
       " 7: 'insects',\n",
       " 8: 'large_carnivores',\n",
       " 9: 'large_man-made_outdoor_things',\n",
       " 10: 'large_natural_outdoor_scenes',\n",
       " 11: 'large_omnivores_and_herbivores',\n",
       " 12: 'medium_mammals',\n",
       " 13: 'non-insect_invertebrates',\n",
       " 14: 'people',\n",
       " 15: 'reptiles',\n",
       " 16: 'small_mammals',\n",
       " 17: 'trees',\n",
       " 18: 'vehicles_1',\n",
       " 19: 'vehicles_2'}"
      ]
     },
     "execution_count": 38,
     "metadata": {},
     "output_type": "execute_result"
    }
   ],
   "source": [
    "ind_to_class['super']"
   ]
  },
  {
   "cell_type": "code",
   "execution_count": 14,
   "metadata": {},
   "outputs": [
    {
     "data": {
      "text/plain": [
       "{'fine_label': 93,\n",
       " 'coarse_label': 15,\n",
       " 'filename': 'turtle_s_000005.png',\n",
       " 'target': 15,\n",
       " 'img': tensor([[[-9.3643e-01,  1.6851e-01,  1.2974e-01,  ..., -8.7827e-01,\n",
       "           -1.2660e+00, -1.3047e+00],\n",
       "          [ 4.7867e-01,  5.7560e-01,  1.1036e-01,  ..., -4.7119e-01,\n",
       "           -6.8442e-01, -4.7119e-01],\n",
       "          [ 1.0990e+00,  4.9806e-01,  3.0421e-01,  ..., -4.4721e-02,\n",
       "           -1.0288e-01,  1.6851e-01],\n",
       "          ...,\n",
       "          [ 1.6030e+00,  1.7775e+00,  1.8938e+00,  ...,  1.3510e+00,\n",
       "            1.4673e+00,  1.5642e+00],\n",
       "          [ 1.7581e+00,  1.9325e+00,  1.9713e+00,  ...,  1.6418e+00,\n",
       "            1.5255e+00,  1.5642e+00],\n",
       "          [ 1.6805e+00,  1.7387e+00,  1.7581e+00,  ...,  1.4867e+00,\n",
       "            1.4091e+00,  1.6612e+00]],\n",
       " \n",
       "         [[-1.2776e+00, -3.3357e-01, -4.1224e-01,  ..., -1.2579e+00,\n",
       "           -1.6512e+00, -1.6906e+00],\n",
       "          [ 7.6703e-04,  4.0101e-02, -4.1224e-01,  ..., -9.4324e-01,\n",
       "           -1.1399e+00, -9.2357e-01],\n",
       "          [ 5.1211e-01, -5.8233e-02, -1.9590e-01,  ..., -5.8924e-01,\n",
       "           -6.4824e-01, -3.5324e-01],\n",
       "          ...,\n",
       "          [ 1.3971e+00,  1.5741e+00,  1.6724e+00,  ...,  8.6611e-01,\n",
       "            1.0234e+00,  1.1611e+00],\n",
       "          [ 1.5544e+00,  1.7314e+00,  1.7511e+00,  ...,  1.1414e+00,\n",
       "            1.0824e+00,  1.1611e+00],\n",
       "          [ 1.4561e+00,  1.5151e+00,  1.5544e+00,  ...,  1.0038e+00,\n",
       "            9.6444e-01,  1.2594e+00]],\n",
       " \n",
       "         [[-1.7727e+00, -1.0898e+00, -1.1483e+00,  ..., -1.4995e+00,\n",
       "           -1.8312e+00, -1.8507e+00],\n",
       "          [-8.5567e-01, -9.1420e-01, -1.2849e+00,  ..., -1.3239e+00,\n",
       "           -1.5190e+00, -1.3825e+00],\n",
       "          [-3.8743e-01, -8.7518e-01, -8.9469e-01,  ..., -1.1483e+00,\n",
       "           -1.2264e+00, -1.0508e+00],\n",
       "          ...,\n",
       "          [ 6.2711e-01,  8.8074e-01,  1.0173e+00,  ..., -1.6730e-02,\n",
       "            1.3935e-01,  2.9543e-01],\n",
       "          [ 8.0270e-01,  1.0173e+00,  1.0954e+00,  ...,  2.7592e-01,\n",
       "            1.9788e-01,  2.9543e-01],\n",
       "          [ 7.4417e-01,  8.2221e-01,  8.6123e-01,  ...,  1.1984e-01,\n",
       "            8.0821e-02,  3.9299e-01]]])}"
      ]
     },
     "execution_count": 14,
     "metadata": {},
     "output_type": "execute_result"
    }
   ],
   "source": [
    "dataloaders['super']['test'].dataset[105]"
   ]
  },
  {
   "cell_type": "code",
   "execution_count": 4,
   "metadata": {},
   "outputs": [
    {
     "data": {
      "text/plain": [
       "10000"
      ]
     },
     "execution_count": 4,
     "metadata": {},
     "output_type": "execute_result"
    }
   ],
   "source": [
    "len(dataloaders['sub']['test'].dataset)"
   ]
  },
  {
   "cell_type": "code",
   "execution_count": 4,
   "metadata": {},
   "outputs": [],
   "source": [
    "import pickle\n",
    "with open('data/cifar-100-python/meta','rb') as fl:\n",
    "    test_set = pickle.load(fl, encoding='latin1')"
   ]
  },
  {
   "cell_type": "code",
   "execution_count": 6,
   "metadata": {},
   "outputs": [
    {
     "data": {
      "text/plain": [
       "{'fine_label_names': ['apple',\n",
       "  'aquarium_fish',\n",
       "  'baby',\n",
       "  'bear',\n",
       "  'beaver',\n",
       "  'bed',\n",
       "  'bee',\n",
       "  'beetle',\n",
       "  'bicycle',\n",
       "  'bottle',\n",
       "  'bowl',\n",
       "  'boy',\n",
       "  'bridge',\n",
       "  'bus',\n",
       "  'butterfly',\n",
       "  'camel',\n",
       "  'can',\n",
       "  'castle',\n",
       "  'caterpillar',\n",
       "  'cattle',\n",
       "  'chair',\n",
       "  'chimpanzee',\n",
       "  'clock',\n",
       "  'cloud',\n",
       "  'cockroach',\n",
       "  'couch',\n",
       "  'crab',\n",
       "  'crocodile',\n",
       "  'cup',\n",
       "  'dinosaur',\n",
       "  'dolphin',\n",
       "  'elephant',\n",
       "  'flatfish',\n",
       "  'forest',\n",
       "  'fox',\n",
       "  'girl',\n",
       "  'hamster',\n",
       "  'house',\n",
       "  'kangaroo',\n",
       "  'keyboard',\n",
       "  'lamp',\n",
       "  'lawn_mower',\n",
       "  'leopard',\n",
       "  'lion',\n",
       "  'lizard',\n",
       "  'lobster',\n",
       "  'man',\n",
       "  'maple_tree',\n",
       "  'motorcycle',\n",
       "  'mountain',\n",
       "  'mouse',\n",
       "  'mushroom',\n",
       "  'oak_tree',\n",
       "  'orange',\n",
       "  'orchid',\n",
       "  'otter',\n",
       "  'palm_tree',\n",
       "  'pear',\n",
       "  'pickup_truck',\n",
       "  'pine_tree',\n",
       "  'plain',\n",
       "  'plate',\n",
       "  'poppy',\n",
       "  'porcupine',\n",
       "  'possum',\n",
       "  'rabbit',\n",
       "  'raccoon',\n",
       "  'ray',\n",
       "  'road',\n",
       "  'rocket',\n",
       "  'rose',\n",
       "  'sea',\n",
       "  'seal',\n",
       "  'shark',\n",
       "  'shrew',\n",
       "  'skunk',\n",
       "  'skyscraper',\n",
       "  'snail',\n",
       "  'snake',\n",
       "  'spider',\n",
       "  'squirrel',\n",
       "  'streetcar',\n",
       "  'sunflower',\n",
       "  'sweet_pepper',\n",
       "  'table',\n",
       "  'tank',\n",
       "  'telephone',\n",
       "  'television',\n",
       "  'tiger',\n",
       "  'tractor',\n",
       "  'train',\n",
       "  'trout',\n",
       "  'tulip',\n",
       "  'turtle',\n",
       "  'wardrobe',\n",
       "  'whale',\n",
       "  'willow_tree',\n",
       "  'wolf',\n",
       "  'woman',\n",
       "  'worm'],\n",
       " 'coarse_label_names': ['aquatic_mammals',\n",
       "  'fish',\n",
       "  'flowers',\n",
       "  'food_containers',\n",
       "  'fruit_and_vegetables',\n",
       "  'household_electrical_devices',\n",
       "  'household_furniture',\n",
       "  'insects',\n",
       "  'large_carnivores',\n",
       "  'large_man-made_outdoor_things',\n",
       "  'large_natural_outdoor_scenes',\n",
       "  'large_omnivores_and_herbivores',\n",
       "  'medium_mammals',\n",
       "  'non-insect_invertebrates',\n",
       "  'people',\n",
       "  'reptiles',\n",
       "  'small_mammals',\n",
       "  'trees',\n",
       "  'vehicles_1',\n",
       "  'vehicles_2']}"
      ]
     },
     "execution_count": 6,
     "metadata": {},
     "output_type": "execute_result"
    }
   ],
   "source": [
    "test_set"
   ]
  },
  {
   "cell_type": "code",
   "execution_count": 12,
   "metadata": {},
   "outputs": [
    {
     "data": {
      "text/plain": [
       "0.25"
      ]
     },
     "execution_count": 12,
     "metadata": {},
     "output_type": "execute_result"
    }
   ],
   "source": [
    "import ast\n",
    "ast.literal_eval(str({'mountain':0.25, \"dolphin\":0.25}))['mountain']"
   ]
  },
  {
   "cell_type": "code",
   "execution_count": 13,
   "metadata": {},
   "outputs": [
    {
     "ename": "NameError",
     "evalue": "name 'pickle' is not defined",
     "output_type": "error",
     "traceback": [
      "\u001b[0;31m---------------------------------------------------------------------------\u001b[0m",
      "\u001b[0;31mNameError\u001b[0m                                 Traceback (most recent call last)",
      "\u001b[0;32m<ipython-input-13-a0418e9a06b3>\u001b[0m in \u001b[0;36m<module>\u001b[0;34m\u001b[0m\n\u001b[1;32m      1\u001b[0m \u001b[0;32mwith\u001b[0m \u001b[0mopen\u001b[0m\u001b[0;34m(\u001b[0m\u001b[0;34m'utils/cifar100_fine_class_to_idx.pkl'\u001b[0m\u001b[0;34m,\u001b[0m \u001b[0;34m'wb'\u001b[0m\u001b[0;34m)\u001b[0m \u001b[0;32mas\u001b[0m \u001b[0mfl\u001b[0m\u001b[0;34m:\u001b[0m\u001b[0;34m\u001b[0m\u001b[0;34m\u001b[0m\u001b[0m\n\u001b[0;32m----> 2\u001b[0;31m     \u001b[0mpickle\u001b[0m\u001b[0;34m.\u001b[0m\u001b[0mdump\u001b[0m\u001b[0;34m(\u001b[0m\u001b[0mclass_to_ind\u001b[0m\u001b[0;34m[\u001b[0m\u001b[0;34m'super'\u001b[0m\u001b[0;34m]\u001b[0m\u001b[0;34m,\u001b[0m\u001b[0mfl\u001b[0m\u001b[0;34m)\u001b[0m\u001b[0;34m\u001b[0m\u001b[0;34m\u001b[0m\u001b[0m\n\u001b[0m",
      "\u001b[0;31mNameError\u001b[0m: name 'pickle' is not defined"
     ]
    }
   ],
   "source": [
    "import pickle\n",
    "with open('utils/cifar100_fine_class_to_idx.pkl', 'wb') as fl:\n",
    "    pickle.dump(class_to_ind['super'],fl)"
   ]
  },
  {
   "cell_type": "code",
   "execution_count": 8,
   "metadata": {},
   "outputs": [],
   "source": [
    "street_inds = np.array(dataloaders['super']['train'].dataset.data['fine_labels']) == dataloaders['super']['train'].dataset.fine_class_to_idx['streetcar']\n",
    "bus_inds = np.array(dataloaders['super']['train'].dataset.data['fine_labels']) == dataloaders['super']['train'].dataset.fine_class_to_idx['bus']"
   ]
  },
  {
   "cell_type": "code",
   "execution_count": 28,
   "metadata": {},
   "outputs": [
    {
     "data": {
      "text/plain": [
       "array([ True,  True,  True,  True,  True,  True,  True,  True,  True,\n",
       "        True,  True,  True,  True,  True,  True,  True,  True,  True,\n",
       "        True,  True,  True,  True,  True,  True,  True,  True,  True,\n",
       "        True,  True,  True,  True,  True,  True,  True,  True,  True,\n",
       "        True,  True,  True,  True,  True,  True,  True,  True,  True,\n",
       "        True,  True,  True,  True,  True,  True,  True,  True,  True,\n",
       "        True,  True,  True,  True,  True,  True,  True,  True,  True,\n",
       "        True,  True,  True,  True,  True,  True,  True,  True,  True,\n",
       "        True,  True,  True,  True,  True,  True,  True,  True,  True,\n",
       "        True,  True,  True,  True,  True,  True,  True,  True,  True,\n",
       "        True,  True,  True,  True,  True,  True,  True,  True,  True,\n",
       "        True,  True,  True,  True,  True,  True,  True,  True,  True,\n",
       "        True,  True,  True,  True,  True,  True,  True,  True,  True,\n",
       "        True,  True,  True,  True,  True,  True,  True,  True,  True,\n",
       "        True,  True,  True,  True,  True,  True,  True,  True,  True,\n",
       "        True,  True,  True,  True,  True,  True,  True,  True,  True,\n",
       "        True,  True,  True,  True,  True,  True,  True,  True,  True,\n",
       "        True,  True,  True,  True,  True,  True,  True,  True,  True,\n",
       "        True,  True,  True,  True,  True,  True,  True,  True,  True,\n",
       "        True,  True,  True,  True,  True,  True,  True,  True,  True,\n",
       "        True,  True,  True,  True,  True,  True,  True,  True,  True,\n",
       "        True,  True,  True,  True,  True,  True,  True,  True,  True,\n",
       "        True,  True,  True,  True,  True,  True,  True,  True,  True,\n",
       "        True,  True,  True,  True,  True,  True,  True,  True,  True,\n",
       "        True,  True,  True,  True,  True,  True,  True,  True,  True,\n",
       "        True,  True,  True,  True,  True,  True,  True,  True,  True,\n",
       "        True,  True,  True,  True,  True,  True,  True,  True,  True,\n",
       "        True,  True,  True,  True,  True,  True,  True,  True,  True,\n",
       "        True,  True,  True,  True,  True,  True,  True,  True,  True,\n",
       "        True,  True,  True,  True,  True,  True,  True,  True,  True,\n",
       "        True,  True,  True,  True,  True,  True,  True,  True,  True,\n",
       "        True,  True,  True,  True,  True,  True,  True,  True,  True,\n",
       "        True,  True,  True,  True,  True,  True,  True,  True,  True,\n",
       "        True,  True,  True,  True,  True,  True,  True,  True,  True,\n",
       "        True,  True,  True,  True,  True,  True,  True,  True,  True,\n",
       "        True,  True,  True,  True,  True,  True,  True,  True,  True,\n",
       "        True,  True,  True,  True,  True,  True,  True,  True,  True,\n",
       "        True,  True,  True,  True,  True,  True,  True,  True,  True,\n",
       "        True,  True,  True,  True,  True,  True,  True,  True,  True,\n",
       "        True,  True,  True,  True,  True,  True,  True,  True,  True,\n",
       "        True,  True,  True,  True,  True,  True,  True,  True,  True,\n",
       "        True,  True,  True,  True,  True,  True,  True,  True,  True,\n",
       "        True,  True,  True,  True,  True,  True,  True,  True,  True,\n",
       "        True,  True,  True,  True,  True,  True,  True,  True,  True,\n",
       "        True,  True,  True,  True,  True,  True,  True,  True,  True,\n",
       "        True,  True,  True,  True,  True,  True,  True,  True,  True,\n",
       "        True,  True,  True,  True,  True,  True,  True,  True,  True,\n",
       "        True,  True,  True,  True,  True,  True,  True,  True,  True,\n",
       "        True,  True,  True,  True,  True,  True,  True,  True,  True,\n",
       "        True,  True,  True,  True,  True,  True,  True,  True,  True,\n",
       "        True,  True,  True,  True,  True,  True,  True,  True,  True,\n",
       "        True,  True,  True,  True,  True,  True,  True,  True,  True,\n",
       "        True,  True,  True,  True,  True,  True,  True,  True,  True,\n",
       "        True,  True,  True,  True,  True,  True,  True,  True,  True,\n",
       "        True,  True,  True,  True,  True,  True,  True,  True,  True,\n",
       "        True,  True,  True,  True,  True])"
      ]
     },
     "execution_count": 28,
     "metadata": {},
     "output_type": "execute_result"
    }
   ],
   "source": []
  },
  {
   "cell_type": "code",
   "execution_count": 46,
   "metadata": {},
   "outputs": [],
   "source": [
    "import matplotlib.pyplot as plt\n",
    "streetcar_data = dataloaders['super']['train'].dataset.data['data'][street_inds]\n",
    "bus_data = dataloaders['super']['train'].dataset.data['data'][bus_inds+1]"
   ]
  },
  {
   "cell_type": "code",
   "execution_count": 47,
   "metadata": {},
   "outputs": [
    {
     "data": {
      "text/plain": [
       "<matplotlib.image.AxesImage at 0x7fc0515174e0>"
      ]
     },
     "execution_count": 47,
     "metadata": {},
     "output_type": "execute_result"
    },
    {
     "data": {
      "image/png": "[encoded data removed]",
      "text/plain": [
       "<Figure size 432x288 with 1 Axes>"
      ]
     },
     "metadata": {
      "needs_background": "light"
     },
     "output_type": "display_data"
    }
   ],
   "source": [
    "ind = 10\n",
    "plt.imshow(streetcar_data[ind])"
   ]
  },
  {
   "cell_type": "code",
   "execution_count": 48,
   "metadata": {},
   "outputs": [
    {
     "data": {
      "text/plain": [
       "<matplotlib.image.AxesImage at 0x7fc0514f2f60>"
      ]
     },
     "execution_count": 48,
     "metadata": {},
     "output_type": "execute_result"
    },
    {
     "data": {
      "image/png": "[encoded data removed]",
      "text/plain": [
       "<Figure size 432x288 with 1 Axes>"
      ]
     },
     "metadata": {
      "needs_background": "light"
     },
     "output_type": "display_data"
    }
   ],
   "source": [
    "plt.imshow(bus_data[ind])"
   ]
  },
  {
   "cell_type": "code",
   "execution_count": 37,
   "metadata": {},
   "outputs": [
    {
     "data": {
      "text/plain": [
       "array([[[0, 0, 0],\n",
       "        [0, 0, 0],\n",
       "        [0, 0, 0],\n",
       "        ...,\n",
       "        [0, 0, 0],\n",
       "        [0, 0, 0],\n",
       "        [0, 0, 0]],\n",
       "\n",
       "       [[0, 0, 0],\n",
       "        [0, 0, 0],\n",
       "        [0, 0, 0],\n",
       "        ...,\n",
       "        [0, 0, 0],\n",
       "        [0, 0, 0],\n",
       "        [0, 0, 0]],\n",
       "\n",
       "       [[0, 0, 0],\n",
       "        [0, 0, 0],\n",
       "        [0, 0, 0],\n",
       "        ...,\n",
       "        [0, 0, 0],\n",
       "        [0, 0, 0],\n",
       "        [0, 0, 0]],\n",
       "\n",
       "       ...,\n",
       "\n",
       "       [[0, 0, 0],\n",
       "        [0, 0, 0],\n",
       "        [0, 0, 0],\n",
       "        ...,\n",
       "        [0, 0, 0],\n",
       "        [0, 0, 0],\n",
       "        [0, 0, 0]],\n",
       "\n",
       "       [[0, 0, 0],\n",
       "        [0, 0, 0],\n",
       "        [0, 0, 0],\n",
       "        ...,\n",
       "        [0, 0, 0],\n",
       "        [0, 0, 0],\n",
       "        [0, 0, 0]],\n",
       "\n",
       "       [[0, 0, 0],\n",
       "        [0, 0, 0],\n",
       "        [0, 0, 0],\n",
       "        ...,\n",
       "        [0, 0, 0],\n",
       "        [0, 0, 0],\n",
       "        [0, 0, 0]]], dtype=uint8)"
      ]
     },
     "execution_count": 37,
     "metadata": {},
     "output_type": "execute_result"
    }
   ],
   "source": [
    "bus_data[5]-streetcar_data[5]"
   ]
  },
  {
   "cell_type": "code",
   "execution_count": null,
   "metadata": {},
   "outputs": [],
   "source": []
  }
 ],
 "metadata": {
  "kernelspec": {
   "display_name": "Python 3",
   "language": "python",
   "name": "python3"
  },
  "language_info": {
   "codemirror_mode": {
    "name": "ipython",
    "version": 3
   },
   "file_extension": ".py",
   "mimetype": "text/x-python",
   "name": "python",
   "nbconvert_exporter": "python",
   "pygments_lexer": "ipython3",
   "version": "3.6.8"
  }
 },
 "nbformat": 4,
 "nbformat_minor": 4
}
